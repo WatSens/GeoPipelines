{
 "cells": [
  {
   "cell_type": "code",
   "execution_count": 1,
   "id": "e632a273",
   "metadata": {},
   "outputs": [
    {
     "name": "stdout",
     "output_type": "stream",
     "text": [
      "Requirement already satisfied: planetary_computer in /home/hhammad/miniconda3/envs/stenv/lib/python3.10/site-packages (0.5.1)\n",
      "Requirement already satisfied: click>=7.1 in /home/hhammad/miniconda3/envs/stenv/lib/python3.10/site-packages (from planetary_computer) (8.0.4)\n",
      "Requirement already satisfied: pydantic[dotenv]>=1.7.3 in /home/hhammad/miniconda3/envs/stenv/lib/python3.10/site-packages (from planetary_computer) (1.10.7)\n",
      "Requirement already satisfied: pystac>=1.0.0 in /home/hhammad/miniconda3/envs/stenv/lib/python3.10/site-packages (from planetary_computer) (1.7.3)\n",
      "Requirement already satisfied: pystac-client>=0.2.0 in /home/hhammad/miniconda3/envs/stenv/lib/python3.10/site-packages (from planetary_computer) (0.6.1)\n",
      "Requirement already satisfied: pytz>=2020.5 in /home/hhammad/miniconda3/envs/stenv/lib/python3.10/site-packages (from planetary_computer) (2022.7)\n",
      "Requirement already satisfied: requests>=2.25.1 in /home/hhammad/miniconda3/envs/stenv/lib/python3.10/site-packages (from planetary_computer) (2.28.1)\n",
      "Requirement already satisfied: typing-extensions>=4.2.0 in /home/hhammad/.local/lib/python3.10/site-packages (from pydantic[dotenv]>=1.7.3->planetary_computer) (4.5.0)\n",
      "Requirement already satisfied: python-dotenv>=0.10.4 in /home/hhammad/miniconda3/envs/stenv/lib/python3.10/site-packages (from pydantic[dotenv]>=1.7.3->planetary_computer) (1.0.0)\n",
      "Requirement already satisfied: python-dateutil>=2.7.0 in /home/hhammad/miniconda3/envs/stenv/lib/python3.10/site-packages (from pystac>=1.0.0->planetary_computer) (2.8.2)\n",
      "Requirement already satisfied: charset-normalizer<3,>=2 in /home/hhammad/miniconda3/envs/stenv/lib/python3.10/site-packages (from requests>=2.25.1->planetary_computer) (2.0.4)\n",
      "Requirement already satisfied: idna<4,>=2.5 in /home/hhammad/miniconda3/envs/stenv/lib/python3.10/site-packages (from requests>=2.25.1->planetary_computer) (3.4)\n",
      "Requirement already satisfied: urllib3<1.27,>=1.21.1 in /home/hhammad/miniconda3/envs/stenv/lib/python3.10/site-packages (from requests>=2.25.1->planetary_computer) (1.26.14)\n",
      "Requirement already satisfied: certifi>=2017.4.17 in /home/hhammad/miniconda3/envs/stenv/lib/python3.10/site-packages (from requests>=2.25.1->planetary_computer) (2022.12.7)\n",
      "Requirement already satisfied: six>=1.5 in /home/hhammad/miniconda3/envs/stenv/lib/python3.10/site-packages (from python-dateutil>=2.7.0->pystac>=1.0.0->planetary_computer) (1.16.0)\n"
     ]
    }
   ],
   "source": [
    "!pip install planetary_computer"
   ]
  },
  {
   "cell_type": "code",
   "execution_count": 2,
   "id": "02991f0d",
   "metadata": {},
   "outputs": [
    {
     "name": "stdout",
     "output_type": "stream",
     "text": [
      "Requirement already satisfied: dask[distributed] in /home/hhammad/miniconda3/envs/stenv/lib/python3.10/site-packages (2023.4.1)\n",
      "Requirement already satisfied: click>=8.0 in /home/hhammad/miniconda3/envs/stenv/lib/python3.10/site-packages (from dask[distributed]) (8.0.4)\n",
      "Requirement already satisfied: cloudpickle>=1.5.0 in /home/hhammad/miniconda3/envs/stenv/lib/python3.10/site-packages (from dask[distributed]) (2.2.1)\n",
      "Requirement already satisfied: fsspec>=2021.09.0 in /home/hhammad/.local/lib/python3.10/site-packages (from dask[distributed]) (2023.4.0)\n",
      "Requirement already satisfied: packaging>=20.0 in /home/hhammad/miniconda3/envs/stenv/lib/python3.10/site-packages (from dask[distributed]) (22.0)\n",
      "Requirement already satisfied: partd>=1.2.0 in /home/hhammad/miniconda3/envs/stenv/lib/python3.10/site-packages (from dask[distributed]) (1.4.0)\n",
      "Requirement already satisfied: pyyaml>=5.3.1 in /home/hhammad/miniconda3/envs/stenv/lib/python3.10/site-packages (from dask[distributed]) (6.0)\n",
      "Requirement already satisfied: toolz>=0.10.0 in /home/hhammad/miniconda3/envs/stenv/lib/python3.10/site-packages (from dask[distributed]) (0.12.0)\n",
      "Requirement already satisfied: importlib-metadata>=4.13.0 in /home/hhammad/miniconda3/envs/stenv/lib/python3.10/site-packages (from dask[distributed]) (6.6.0)\n",
      "Requirement already satisfied: distributed==2023.4.1 in /home/hhammad/miniconda3/envs/stenv/lib/python3.10/site-packages (from dask[distributed]) (2023.4.1)\n",
      "Requirement already satisfied: jinja2>=2.10.3 in /home/hhammad/miniconda3/envs/stenv/lib/python3.10/site-packages (from distributed==2023.4.1->dask[distributed]) (3.1.2)\n",
      "Requirement already satisfied: locket>=1.0.0 in /home/hhammad/miniconda3/envs/stenv/lib/python3.10/site-packages (from distributed==2023.4.1->dask[distributed]) (1.0.0)\n",
      "Requirement already satisfied: msgpack>=1.0.0 in /home/hhammad/miniconda3/envs/stenv/lib/python3.10/site-packages (from distributed==2023.4.1->dask[distributed]) (1.0.5)\n",
      "Requirement already satisfied: psutil>=5.7.0 in /home/hhammad/miniconda3/envs/stenv/lib/python3.10/site-packages (from distributed==2023.4.1->dask[distributed]) (5.9.0)\n",
      "Requirement already satisfied: sortedcontainers>=2.0.5 in /home/hhammad/miniconda3/envs/stenv/lib/python3.10/site-packages (from distributed==2023.4.1->dask[distributed]) (2.4.0)\n",
      "Requirement already satisfied: tblib>=1.6.0 in /home/hhammad/miniconda3/envs/stenv/lib/python3.10/site-packages (from distributed==2023.4.1->dask[distributed]) (1.7.0)\n",
      "Requirement already satisfied: tornado>=6.0.3 in /home/hhammad/.local/lib/python3.10/site-packages (from distributed==2023.4.1->dask[distributed]) (6.2)\n",
      "Requirement already satisfied: urllib3>=1.24.3 in /home/hhammad/miniconda3/envs/stenv/lib/python3.10/site-packages (from distributed==2023.4.1->dask[distributed]) (1.26.14)\n",
      "Requirement already satisfied: zict>=2.2.0 in /home/hhammad/miniconda3/envs/stenv/lib/python3.10/site-packages (from distributed==2023.4.1->dask[distributed]) (3.0.0)\n",
      "Requirement already satisfied: zipp>=0.5 in /home/hhammad/miniconda3/envs/stenv/lib/python3.10/site-packages (from importlib-metadata>=4.13.0->dask[distributed]) (3.11.0)\n",
      "Requirement already satisfied: MarkupSafe>=2.0 in /home/hhammad/miniconda3/envs/stenv/lib/python3.10/site-packages (from jinja2>=2.10.3->distributed==2023.4.1->dask[distributed]) (2.1.1)\n"
     ]
    }
   ],
   "source": [
    "!pip install dask[distributed]"
   ]
  },
  {
   "cell_type": "code",
   "execution_count": 3,
   "id": "fb75f9b0",
   "metadata": {},
   "outputs": [
    {
     "name": "stdout",
     "output_type": "stream",
     "text": [
      "Requirement already satisfied: odc.stac in /home/hhammad/miniconda3/envs/stenv/lib/python3.10/site-packages (0.3.5)\n",
      "Requirement already satisfied: affine in /home/hhammad/.local/lib/python3.10/site-packages (from odc.stac) (2.4.0)\n",
      "Requirement already satisfied: odc-geo>=0.3.0 in /home/hhammad/miniconda3/envs/stenv/lib/python3.10/site-packages (from odc.stac) (0.3.3)\n",
      "Requirement already satisfied: rasterio!=1.3.0,!=1.3.1,>=1.0.0 in /home/hhammad/.local/lib/python3.10/site-packages (from odc.stac) (1.3.6)\n",
      "Requirement already satisfied: dask[array] in /home/hhammad/miniconda3/envs/stenv/lib/python3.10/site-packages (from odc.stac) (2023.4.1)\n",
      "Requirement already satisfied: numpy>=1.20.0 in /home/hhammad/.local/lib/python3.10/site-packages (from odc.stac) (1.24.2)\n",
      "Requirement already satisfied: pandas in /home/hhammad/miniconda3/envs/stenv/lib/python3.10/site-packages (from odc.stac) (1.5.2)\n",
      "Requirement already satisfied: pystac<2,>=1.0.0 in /home/hhammad/miniconda3/envs/stenv/lib/python3.10/site-packages (from odc.stac) (1.7.3)\n",
      "Requirement already satisfied: toolz in /home/hhammad/miniconda3/envs/stenv/lib/python3.10/site-packages (from odc.stac) (0.12.0)\n",
      "Requirement already satisfied: xarray>=0.19 in /home/hhammad/miniconda3/envs/stenv/lib/python3.10/site-packages (from odc.stac) (2023.4.2)\n",
      "Requirement already satisfied: cachetools in /home/hhammad/miniconda3/envs/stenv/lib/python3.10/site-packages (from odc-geo>=0.3.0->odc.stac) (4.2.2)\n",
      "Requirement already satisfied: pyproj>=3.0.0 in /home/hhammad/.local/lib/python3.10/site-packages (from odc-geo>=0.3.0->odc.stac) (3.5.0)\n",
      "Requirement already satisfied: shapely in /home/hhammad/.local/lib/python3.10/site-packages (from odc-geo>=0.3.0->odc.stac) (2.0.1)\n",
      "Requirement already satisfied: python-dateutil>=2.7.0 in /home/hhammad/miniconda3/envs/stenv/lib/python3.10/site-packages (from pystac<2,>=1.0.0->odc.stac) (2.8.2)\n",
      "Requirement already satisfied: attrs in /home/hhammad/miniconda3/envs/stenv/lib/python3.10/site-packages (from rasterio!=1.3.0,!=1.3.1,>=1.0.0->odc.stac) (22.1.0)\n",
      "Requirement already satisfied: certifi in /home/hhammad/miniconda3/envs/stenv/lib/python3.10/site-packages (from rasterio!=1.3.0,!=1.3.1,>=1.0.0->odc.stac) (2022.12.7)\n",
      "Requirement already satisfied: click>=4.0 in /home/hhammad/miniconda3/envs/stenv/lib/python3.10/site-packages (from rasterio!=1.3.0,!=1.3.1,>=1.0.0->odc.stac) (8.0.4)\n",
      "Requirement already satisfied: cligj>=0.5 in /home/hhammad/.local/lib/python3.10/site-packages (from rasterio!=1.3.0,!=1.3.1,>=1.0.0->odc.stac) (0.7.2)\n",
      "Requirement already satisfied: snuggs>=1.4.1 in /home/hhammad/.local/lib/python3.10/site-packages (from rasterio!=1.3.0,!=1.3.1,>=1.0.0->odc.stac) (1.4.7)\n",
      "Requirement already satisfied: click-plugins in /home/hhammad/.local/lib/python3.10/site-packages (from rasterio!=1.3.0,!=1.3.1,>=1.0.0->odc.stac) (1.1.1)\n",
      "Requirement already satisfied: setuptools in /home/hhammad/miniconda3/envs/stenv/lib/python3.10/site-packages (from rasterio!=1.3.0,!=1.3.1,>=1.0.0->odc.stac) (67.7.2)\n",
      "Requirement already satisfied: packaging>=21.3 in /home/hhammad/miniconda3/envs/stenv/lib/python3.10/site-packages (from xarray>=0.19->odc.stac) (22.0)\n",
      "Requirement already satisfied: pytz>=2020.1 in /home/hhammad/miniconda3/envs/stenv/lib/python3.10/site-packages (from pandas->odc.stac) (2022.7)\n",
      "Requirement already satisfied: cloudpickle>=1.5.0 in /home/hhammad/miniconda3/envs/stenv/lib/python3.10/site-packages (from dask[array]->odc.stac) (2.2.1)\n",
      "Requirement already satisfied: fsspec>=2021.09.0 in /home/hhammad/.local/lib/python3.10/site-packages (from dask[array]->odc.stac) (2023.4.0)\n",
      "Requirement already satisfied: partd>=1.2.0 in /home/hhammad/miniconda3/envs/stenv/lib/python3.10/site-packages (from dask[array]->odc.stac) (1.4.0)\n",
      "Requirement already satisfied: pyyaml>=5.3.1 in /home/hhammad/miniconda3/envs/stenv/lib/python3.10/site-packages (from dask[array]->odc.stac) (6.0)\n",
      "Requirement already satisfied: importlib-metadata>=4.13.0 in /home/hhammad/miniconda3/envs/stenv/lib/python3.10/site-packages (from dask[array]->odc.stac) (6.6.0)\n",
      "Requirement already satisfied: zipp>=0.5 in /home/hhammad/miniconda3/envs/stenv/lib/python3.10/site-packages (from importlib-metadata>=4.13.0->dask[array]->odc.stac) (3.11.0)\n",
      "Requirement already satisfied: locket in /home/hhammad/miniconda3/envs/stenv/lib/python3.10/site-packages (from partd>=1.2.0->dask[array]->odc.stac) (1.0.0)\n",
      "Requirement already satisfied: six>=1.5 in /home/hhammad/miniconda3/envs/stenv/lib/python3.10/site-packages (from python-dateutil>=2.7.0->pystac<2,>=1.0.0->odc.stac) (1.16.0)\n",
      "Requirement already satisfied: pyparsing>=2.1.6 in /home/hhammad/miniconda3/envs/stenv/lib/python3.10/site-packages (from snuggs>=1.4.1->rasterio!=1.3.0,!=1.3.1,>=1.0.0->odc.stac) (3.0.9)\n"
     ]
    }
   ],
   "source": [
    "!pip install odc.stac"
   ]
  },
  {
   "cell_type": "code",
   "execution_count": 4,
   "id": "c805aa28",
   "metadata": {},
   "outputs": [
    {
     "name": "stdout",
     "output_type": "stream",
     "text": [
      "Requirement already satisfied: pip in /home/hhammad/miniconda3/envs/stenv/lib/python3.10/site-packages (23.1.2)\n",
      "\u001b[33mWARNING: Retrying (Retry(total=4, connect=None, read=None, redirect=None, status=None)) after connection broken by 'NewConnectionError('<pip._vendor.urllib3.connection.HTTPSConnection object at 0x7f058fdbcb20>: Failed to establish a new connection: [Errno -3] Temporary failure in name resolution')': /simple/pip/\u001b[0m\u001b[33m\n",
      "\u001b[0m\u001b[33mWARNING: Retrying (Retry(total=3, connect=None, read=None, redirect=None, status=None)) after connection broken by 'NewConnectionError('<pip._vendor.urllib3.connection.HTTPSConnection object at 0x7f058fdbce50>: Failed to establish a new connection: [Errno -3] Temporary failure in name resolution')': /simple/pip/\u001b[0m\u001b[33m\n",
      "\u001b[0m\u001b[33mWARNING: Retrying (Retry(total=2, connect=None, read=None, redirect=None, status=None)) after connection broken by 'NewConnectionError('<pip._vendor.urllib3.connection.HTTPSConnection object at 0x7f058fdbd1b0>: Failed to establish a new connection: [Errno -3] Temporary failure in name resolution')': /simple/pip/\u001b[0m\u001b[33m\n",
      "\u001b[0m\u001b[33mWARNING: Retrying (Retry(total=1, connect=None, read=None, redirect=None, status=None)) after connection broken by 'NewConnectionError('<pip._vendor.urllib3.connection.HTTPSConnection object at 0x7f058fdbd360>: Failed to establish a new connection: [Errno -3] Temporary failure in name resolution')': /simple/pip/\u001b[0m\u001b[33m\n",
      "\u001b[0m\u001b[33mWARNING: Retrying (Retry(total=0, connect=None, read=None, redirect=None, status=None)) after connection broken by 'NewConnectionError('<pip._vendor.urllib3.connection.HTTPSConnection object at 0x7f058fdbd510>: Failed to establish a new connection: [Errno -3] Temporary failure in name resolution')': /simple/pip/\u001b[0m\u001b[33m\n",
      "\u001b[0m"
     ]
    }
   ],
   "source": [
    "!pip install -U pip"
   ]
  },
  {
   "cell_type": "code",
   "execution_count": 5,
   "id": "e5a1f0ad",
   "metadata": {},
   "outputs": [
    {
     "name": "stdout",
     "output_type": "stream",
     "text": [
      "Requirement already satisfied: xarray in /home/hhammad/miniconda3/envs/stenv/lib/python3.10/site-packages (2023.4.2)\n",
      "Requirement already satisfied: numpy>=1.21 in /home/hhammad/.local/lib/python3.10/site-packages (from xarray) (1.24.2)\n",
      "Requirement already satisfied: pandas>=1.4 in /home/hhammad/miniconda3/envs/stenv/lib/python3.10/site-packages (from xarray) (1.5.2)\n",
      "Requirement already satisfied: packaging>=21.3 in /home/hhammad/miniconda3/envs/stenv/lib/python3.10/site-packages (from xarray) (22.0)\n",
      "Requirement already satisfied: python-dateutil>=2.8.1 in /home/hhammad/miniconda3/envs/stenv/lib/python3.10/site-packages (from pandas>=1.4->xarray) (2.8.2)\n",
      "Requirement already satisfied: pytz>=2020.1 in /home/hhammad/miniconda3/envs/stenv/lib/python3.10/site-packages (from pandas>=1.4->xarray) (2022.7)\n",
      "Requirement already satisfied: six>=1.5 in /home/hhammad/miniconda3/envs/stenv/lib/python3.10/site-packages (from python-dateutil>=2.8.1->pandas>=1.4->xarray) (1.16.0)\n"
     ]
    }
   ],
   "source": [
    "!pip install xarray"
   ]
  },
  {
   "cell_type": "code",
   "execution_count": null,
   "id": "0482e0ea",
   "metadata": {},
   "outputs": [],
   "source": [
    "import dask.distributed\n",
    "import dask.utils\n",
    "import numpy as np\n",
    "import planetary_computer as pc\n",
    "import xarray as xr\n",
    "from IPython.display import display\n",
    "from pystac_client import Client\n",
    "\n",
    "from odc.stac import configure_rio, stac_load"
   ]
  },
  {
   "cell_type": "code",
   "execution_count": null,
   "id": "cc747260",
   "metadata": {},
   "outputs": [],
   "source": [
    "cfg = {\n",
    "    \"sentinel-2-l2a\": {\n",
    "        \"assets\": {\n",
    "            \"*\": {\"data_type\": \"uint16\", \"nodata\": 0},\n",
    "            \"SCL\": {\"data_type\": \"uint8\", \"nodata\": 0},\n",
    "            \"visual\": {\"data_type\": \"uint8\", \"nodata\": 0},\n",
    "        },\n",
    "    },\n",
    "    \"*\": {\"warnings\": \"ignore\"},\n",
    "}"
   ]
  },
  {
   "cell_type": "code",
   "execution_count": null,
   "id": "7b12b6cb",
   "metadata": {},
   "outputs": [],
   "source": [
    "client = dask.distributed.Client()\n",
    "configure_rio(cloud_defaults=True, client=client)\n",
    "display(client)"
   ]
  },
  {
   "cell_type": "code",
   "execution_count": null,
   "id": "2a174137",
   "metadata": {},
   "outputs": [],
   "source": [
    "catalog = Client.open(\"https://planetarycomputer.microsoft.com/api/stac/v1\")\n",
    "\n",
    "# query = catalog.search(\n",
    "#     collections=[\"sentinel-2-l2a\"],\n",
    "#     datetime=\"2022-05\",\n",
    "#     query={\"s2:mgrs_tile\": dict(eq=\"06VVN\")},#  06VVN 36RUV\n",
    "\n",
    "# )\n",
    "\n",
    "# items = list(query.get_items())\n",
    "# print(f\"Found: {len(items):d} datasets\")"
   ]
  },
  {
   "cell_type": "code",
   "execution_count": null,
   "id": "efffffdd",
   "metadata": {},
   "outputs": [],
   "source": [
    "query = catalog.search(\n",
    "    collections=[\"sentinel-2-l2a\"],\n",
    "    datetime=\"2022-05\",\n",
    "    query={\"s2:mgrs_tile\": dict(eq=\"36RUV\")},#  06VVN 36RUV\n",
    "\n",
    ")\n",
    "\n",
    "items = list(query.get_items())\n",
    "print(f\"Found: {len(items):d} datasets\")"
   ]
  },
  {
   "cell_type": "code",
   "execution_count": null,
   "id": "28a045c2",
   "metadata": {},
   "outputs": [],
   "source": [
    "resolution = 10\n",
    "SHRINK = 4\n",
    "if client.cluster.workers[0].memory_limit < dask.utils.parse_bytes(\"4G\"):\n",
    "    SHRINK = 8  # running on Binder with 2Gb RAM\n",
    "\n",
    "if SHRINK > 1:\n",
    "    resolution = resolution * SHRINK\n",
    "\n",
    "xx = stac_load(\n",
    "    items,\n",
    "    chunks={\"x\": 2048, \"y\": 2048},\n",
    "    stac_cfg=cfg,\n",
    "    patch_url=pc.sign,\n",
    "    resolution=resolution,\n",
    ")\n",
    "\n",
    "print(f\"Bands: {','.join(list(xx.data_vars))}\")\n",
    "display(xx)"
   ]
  },
  {
   "cell_type": "markdown",
   "id": "1ea6e804",
   "metadata": {},
   "source": [
    "By default stac_load will return all the data bands using canonical asset names. But we can also request a subset of bands, by supplying bands= parameter. When going this route you can also use “common name” to refer to a band.\n",
    "\n",
    "In this case we request red,green,blue,nir bands which are common names for bands B04,B03,B02,B08 and SCL band which is a canonical name."
   ]
  },
  {
   "cell_type": "code",
   "execution_count": null,
   "id": "edd4b519",
   "metadata": {},
   "outputs": [],
   "source": [
    "xx = stac_load(\n",
    "    items,\n",
    "    bands=[\"red\", \"green\", \"blue\", \"nir\", \"SCL\"],\n",
    "    resolution=resolution,\n",
    "    chunks={\"x\": 2048, \"y\": 2048},\n",
    "    stac_cfg=cfg,\n",
    "    patch_url=pc.sign,\n",
    ")\n",
    "\n",
    "print(f\"Bands: {','.join(list(xx.data_vars))}\")\n",
    "display(xx)"
   ]
  },
  {
   "cell_type": "code",
   "execution_count": null,
   "id": "6f7013e4",
   "metadata": {},
   "outputs": [],
   "source": [
    "def to_float(xx):\n",
    "    _xx = xx.astype(\"float32\")\n",
    "    nodata = _xx.attrs.pop(\"nodata\", None)\n",
    "    if nodata is None:\n",
    "        return _xx\n",
    "    return _xx.where(xx != nodata)\n",
    "\n",
    "\n",
    "def colorize(xx, colormap):\n",
    "    return xr.DataArray(colormap[xx.data], coords=xx.coords, dims=(*xx.dims, \"band\"))"
   ]
  },
  {
   "cell_type": "code",
   "execution_count": null,
   "id": "fbbda85e",
   "metadata": {},
   "outputs": [],
   "source": [
    "# like .astype(float32) but taking care of nodata->NaN mapping\n",
    "nir = to_float(xx.nir)\n",
    "red = to_float(xx.red)\n",
    "ndvi = (nir - red) / (\n",
    "    nir + red\n",
    ")  # < This is still a lazy Dask computation (no data loaded yet)\n",
    "\n",
    "# Get the 5-th time slice `load->compute->plot`\n",
    "_ = ndvi.isel(time=4).compute().plot.imshow(size=7, aspect=1.2, interpolation=\"bicubic\")"
   ]
  },
  {
   "cell_type": "code",
   "execution_count": null,
   "id": "2306ce8d",
   "metadata": {},
   "outputs": [],
   "source": [
    "# like .astype(float32) but taking care of nodata->NaN mapping\n",
    "nir = to_float(xx.nir)\n",
    "red = to_float(xx.red)\n",
    "ndvi = (nir - red) / (\n",
    "    nir + red\n",
    ")  # < This is still a lazy Dask computation (no data loaded yet)\n",
    "\n",
    "# Get the 5-th time slice `load->compute->plot`\n",
    "_ = ndvi.isel(time=4).compute().plot.imshow(size=7, aspect=1.2, interpolation=\"bicubic\")"
   ]
  },
  {
   "cell_type": "code",
   "execution_count": null,
   "id": "547647e2",
   "metadata": {},
   "outputs": [],
   "source": [
    "xx = xx.isel(time=np.s_[:6])"
   ]
  },
  {
   "cell_type": "code",
   "execution_count": null,
   "id": "1f63ea95",
   "metadata": {},
   "outputs": [],
   "source": [
    "# fmt: off\n",
    "scl_colormap = np.array(\n",
    "    [\n",
    "        [255,   0, 255, 255],  # 0  - NODATA\n",
    "        [255,   0,   4, 255],  # 1  - Saturated or Defective\n",
    "        [0  ,   0,   0, 255],  # 2  - Dark Areas\n",
    "        [97 ,  97,  97, 255],  # 3  - Cloud Shadow\n",
    "        [3  , 139,  80, 255],  # 4  - Vegetation\n",
    "        [192, 132,  12, 255],  # 5  - Bare Ground\n",
    "        [0 , 0, 0, 255],  # 6  - Water\n",
    "        [117,   0,  27, 255],  # 7  - Unclassified\n",
    "        [208, 208, 208, 255],  # 8  - Cloud\n",
    "        [244, 244, 244, 255],  # 9  - Definitely Cloud\n",
    "        [195, 231, 240, 255],  # 10 - Thin Cloud\n",
    "        [222, 157, 204, 255],  # 11 - Snow or Ice\n",
    "    ],\n",
    "    dtype=\"uint8\",\n",
    ")\n",
    "# fmt: on\n",
    "\n",
    "# Load SCL band, then convert to RGB using color scheme above\n",
    "scl_rgba = colorize(xx.SCL.compute(), scl_colormap)\n",
    "\n",
    "# Check we still have geo-registration\n",
    "scl_rgba.odc.geobox"
   ]
  },
  {
   "cell_type": "code",
   "execution_count": null,
   "id": "ef4ae07d",
   "metadata": {},
   "outputs": [],
   "source": []
  },
  {
   "cell_type": "code",
   "execution_count": null,
   "id": "ee99014d",
   "metadata": {},
   "outputs": [],
   "source": []
  },
  {
   "cell_type": "markdown",
   "id": "d7c7f0d6",
   "metadata": {},
   "source": [
    "# fmt: off\n",
    "scl_colormap = np.array(\n",
    "    [\n",
    "        [255,   0, 255, 255],  # 0  - NODATA\n",
    "        [255,   0,   4, 255],  # 1  - Saturated or Defective\n",
    "        [0  ,   0,   0, 255],  # 2  - Dark Areas\n",
    "        [97 ,  97,  97, 255],  # 3  - Cloud Shadow\n",
    "        [3  , 139,  80, 255],  # 4  - Vegetation\n",
    "        [192, 132,  12, 255],  # 5  - Bare Ground\n",
    "        [21 , 103, 141, 255],  # 6  - Water\n",
    "        [117,   0,  27, 255],  # 7  - Unclassified\n",
    "        [208, 208, 208, 255],  # 8  - Cloud\n",
    "        [244, 244, 244, 255],  # 9  - Definitely Cloud\n",
    "        [195, 231, 240, 255],  # 10 - Thin Cloud\n",
    "        [222, 157, 204, 255],  # 11 - Snow or Ice\n",
    "    ],\n",
    "    dtype=\"uint8\",\n",
    ")\n",
    "# fmt: on\n",
    "\n",
    "# Load SCL band, then convert to RGB using color scheme above\n",
    "scl_rgba = colorize(xx.SCL.compute(), scl_colormap)\n",
    "\n",
    "# Check we still have geo-registration\n",
    "scl_rgba.odc.geobox"
   ]
  },
  {
   "cell_type": "markdown",
   "id": "72e6fd50",
   "metadata": {},
   "source": [
    "_ = scl_rgba.plot.imshow(col=\"time\", col_wrap=3, size=3, interpolation=\"antialiased\")"
   ]
  },
  {
   "cell_type": "code",
   "execution_count": null,
   "id": "4a5045e0",
   "metadata": {},
   "outputs": [],
   "source": [
    "_ = scl_rgba.plot.imshow(col=\"time\", col_wrap=3, size=3, interpolation=\"antialiased\")"
   ]
  },
  {
   "cell_type": "code",
   "execution_count": null,
   "id": "4e9c5696",
   "metadata": {},
   "outputs": [],
   "source": [
    "to_save = scl_rgba.isel(time=3)\n",
    "fname = f\"SCL2-{to_save.time.dt.strftime('%Y%m%d').item()}.tif\"\n",
    "print(f\"Saving to: '{fname}'\")"
   ]
  },
  {
   "cell_type": "code",
   "execution_count": null,
   "id": "c92105c3",
   "metadata": {},
   "outputs": [],
   "source": [
    "scl_rgba.isel(time=3).odc.write_cog(\n",
    "    fname,\n",
    "    overwrite=True,\n",
    "    compress=\"webp\",\n",
    "    webp_quality=90,\n",
    ")"
   ]
  },
  {
   "cell_type": "code",
   "execution_count": null,
   "id": "e18dfd25",
   "metadata": {},
   "outputs": [],
   "source": [
    "scl_rgba.isel(time=3).odc.write_cog(\n",
    "    fname,\n",
    "    overwrite=True,\n",
    "    compress=\"lzw\",\n",
    "    webp_quality=90,\n",
    ")"
   ]
  },
  {
   "cell_type": "markdown",
   "id": "15e6dd55",
   "metadata": {},
   "source": [
    "# https://odc-stac.readthedocs.io/en/latest/notebooks/stac-load-S2-deafrica.html\n",
    "\n",
    "# s2_l2a\n",
    "https://explorer.digitalearth.africa/products/s2_l2a#definition-doc\n"
   ]
  },
  {
   "cell_type": "code",
   "execution_count": null,
   "id": "4efa740e",
   "metadata": {},
   "outputs": [],
   "source": [
    "config = {\n",
    "    \"s2_l2a\": {\n",
    "        \"assets\": {\n",
    "            \"*\": {\n",
    "                \"data_type\": \"uint16\",\n",
    "                \"nodata\": 0,\n",
    "                \"unit\": \"1\",\n",
    "            },\n",
    "            \"SCL\": {\n",
    "                \"data_type\": \"uint8\",\n",
    "                \"nodata\": 0,\n",
    "                \"unit\": \"1\",\n",
    "            },\n",
    "        },\n",
    "        \"aliases\": {\n",
    "            \"costal_aerosol\": \"B01\",\n",
    "            \"blue\": \"B02\",\n",
    "            \"green\": \"B03\",\n",
    "            \"red\": \"B04\",\n",
    "            \"red_edge_1\": \"B05\",\n",
    "            \"red_edge_2\": \"B06\",\n",
    "            \"red_edge_3\": \"B07\",\n",
    "            \"nir\": \"B08\",\n",
    "            \"nir_narrow\": \"B08A\",\n",
    "            \"water_vapour\": \"B09\",\n",
    "            \"swir_1\": \"B11\",\n",
    "            \"swir_2\": \"B12\",\n",
    "            \"mask\": \"SCL\",\n",
    "            \"aerosol_optical_thickness\": \"AOT\",\n",
    "            \"scene_average_water_vapour\": \"WVP\",\n",
    "        },\n",
    "    }\n",
    "}"
   ]
  },
  {
   "cell_type": "code",
   "execution_count": null,
   "id": "d00ff5d1",
   "metadata": {},
   "outputs": [],
   "source": [
    "configure_rio(\n",
    "    cloud_defaults=True,\n",
    "    aws={\"aws_unsigned\": True},\n",
    "    AWS_S3_ENDPOINT=\"s3.af-south-1.amazonaws.com\",\n",
    ")"
   ]
  },
  {
   "cell_type": "code",
   "execution_count": null,
   "id": "d8cf3582",
   "metadata": {},
   "outputs": [],
   "source": [
    "# Open the stac catalogue\n",
    "catalog = Client.open(\"https://explorer.digitalearth.africa/stac\")"
   ]
  },
  {
   "cell_type": "code",
   "execution_count": null,
   "id": "36bb7999",
   "metadata": {},
   "outputs": [],
   "source": []
  },
  {
   "cell_type": "code",
   "execution_count": null,
   "id": "ebd863ec",
   "metadata": {},
   "outputs": [],
   "source": [
    "# Set a bounding box\n",
    "# [xmin, ymin, xmax, ymax] in latitude and longitude\n",
    "bbox = [30.76, 30.49, 31.77, 31.50]\n",
    "# bbox = [37.76, 12.49, 37.77, 12.50]\n",
    "# Set a start and end date\n",
    "start_date = \"2020-09-01\"\n",
    "end_date = \"2020-12-01\"\n",
    "\n",
    "# Set the STAC collections\n",
    "collections = [\"s2_l2a\"]"
   ]
  },
  {
   "cell_type": "code",
   "execution_count": null,
   "id": "1e3b840c",
   "metadata": {},
   "outputs": [],
   "source": [
    "# Build a query with the set parameters\n",
    "query = catalog.search(\n",
    "    bbox=bbox, collections=collections, datetime=f\"{start_date}/{end_date}\"\n",
    ")\n",
    "\n",
    "# Search the STAC catalog for all items matching the query\n",
    "items = list(query.get_items())\n",
    "print(f\"Found: {len(items):d} datasets\")"
   ]
  },
  {
   "cell_type": "code",
   "execution_count": null,
   "id": "df0f67ff",
   "metadata": {},
   "outputs": [],
   "source": [
    "crs = \"EPSG:4326\"\n",
    "# crs = \"EPSG:6933\"\n",
    "\n",
    "resolution = 20\n",
    "\n",
    "ds = stac_load(\n",
    "    items,\n",
    "    bands=(\"red\", \"green\", \"blue\", \"nir\"),\n",
    "    crs=crs,\n",
    "    resolution=resolution,\n",
    "    chunks={},\n",
    "    groupby=\"solar_day\",\n",
    "    stac_cfg=config,\n",
    "    bbox=bbox,\n",
    ")\n",
    "\n",
    "# View the Xarray Dataset\n",
    "ds"
   ]
  },
  {
   "cell_type": "code",
   "execution_count": null,
   "id": "a52f6aa9",
   "metadata": {},
   "outputs": [],
   "source": [
    "ds[\"NDVI\"] = (ds.nir - ds.red) / (ds.nir + ds.red)\n",
    "\n",
    "\n",
    "ds.NDVI.compute().plot(col=\"time\", col_wrap=6, vmin=0, vmax=1)"
   ]
  },
  {
   "cell_type": "code",
   "execution_count": null,
   "id": "2aff2fa6",
   "metadata": {},
   "outputs": [],
   "source": []
  }
 ],
 "metadata": {
  "kernelspec": {
   "display_name": "Python 3 (ipykernel)",
   "language": "python",
   "name": "python3"
  },
  "language_info": {
   "codemirror_mode": {
    "name": "ipython",
    "version": 3
   },
   "file_extension": ".py",
   "mimetype": "text/x-python",
   "name": "python",
   "nbconvert_exporter": "python",
   "pygments_lexer": "ipython3",
   "version": "3.10.9"
  },
  "toc": {
   "base_numbering": 1,
   "nav_menu": {},
   "number_sections": true,
   "sideBar": true,
   "skip_h1_title": false,
   "title_cell": "Table of Contents",
   "title_sidebar": "Contents",
   "toc_cell": false,
   "toc_position": {},
   "toc_section_display": true,
   "toc_window_display": false
  }
 },
 "nbformat": 4,
 "nbformat_minor": 5
}
